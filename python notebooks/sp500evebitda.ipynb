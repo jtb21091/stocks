{
 "cells": [
  {
   "cell_type": "code",
   "execution_count": 3,
   "id": "7f9001ea-dccd-4643-b240-623af3424894",
   "metadata": {},
   "outputs": [
    {
     "name": "stdout",
     "output_type": "stream",
     "text": [
      "DataFrame has been saved to sp500_ev_ebitda.xlsx\n"
     ]
    }
   ],
   "source": [
    "import yfinance as yf\n",
    "import pandas as pd\n",
    "\n",
    "# Fetch the list of S&P 500 companies\n",
    "sp500_url = 'https://en.wikipedia.org/wiki/List_of_S%26P_500_companies'\n",
    "sp500_table = pd.read_html(sp500_url)\n",
    "sp500_df = sp500_table[0]\n",
    "\n",
    "# Create an empty dataframe to store the results\n",
    "columns = ['Ticker', 'Company', 'EV/EBITDA']\n",
    "ev_ebitda_df = pd.DataFrame(columns=columns)\n",
    "\n",
    "# Function to get EV/EBITDA\n",
    "def get_ev_ebitda(ticker):\n",
    "    try:\n",
    "        stock = yf.Ticker(ticker)\n",
    "        enterprise_value = stock.info['enterpriseValue']\n",
    "        ebitda = stock.info['ebitda']\n",
    "        if enterprise_value is None or ebitda is None:\n",
    "            return None\n",
    "        ev_ebitda = enterprise_value / ebitda\n",
    "        return ev_ebitda\n",
    "    except KeyError:\n",
    "        return None\n",
    "\n",
    "# List to collect data rows\n",
    "data_rows = []\n",
    "\n",
    "# Iterate over the S&P 500 companies and get their EV/EBITDA\n",
    "for index, row in sp500_df.iterrows():\n",
    "    ticker = row['Symbol']\n",
    "    company = row['Security']\n",
    "    ev_ebitda = get_ev_ebitda(ticker)\n",
    "    data_rows.append({'Ticker': ticker, 'Company': company, 'EV/EBITDA': ev_ebitda})\n",
    "\n",
    "# Create DataFrame from the collected data\n",
    "ev_ebitda_df = pd.DataFrame(data_rows)\n",
    "\n",
    "# Save the DataFrame to an Excel file\n",
    "output_file = 'sp500_ev_ebitda.xlsx'\n",
    "ev_ebitda_df.to_excel(output_file, index=False)\n",
    "\n",
    "print(f\"DataFrame has been saved to {output_file}\")\n"
   ]
  },
  {
   "cell_type": "code",
   "execution_count": null,
   "id": "680bf1e0-7022-4a01-b736-a055e4400739",
   "metadata": {},
   "outputs": [],
   "source": []
  }
 ],
 "metadata": {
  "kernelspec": {
   "display_name": "Python 3 (ipykernel)",
   "language": "python",
   "name": "python3"
  },
  "language_info": {
   "codemirror_mode": {
    "name": "ipython",
    "version": 3
   },
   "file_extension": ".py",
   "mimetype": "text/x-python",
   "name": "python",
   "nbconvert_exporter": "python",
   "pygments_lexer": "ipython3",
   "version": "3.11.7"
  }
 },
 "nbformat": 4,
 "nbformat_minor": 5
}
