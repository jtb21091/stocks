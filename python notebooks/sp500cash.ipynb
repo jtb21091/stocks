{
 "cells": [
  {
   "cell_type": "code",
   "execution_count": 2,
   "id": "ee5230ac-4fb7-4aa2-846d-d719d065bd0f",
   "metadata": {},
   "outputs": [
    {
     "name": "stderr",
     "output_type": "stream",
     "text": [
      "100%|█████████████████████████████████████████| 503/503 [01:27<00:00,  5.75it/s]\n"
     ]
    },
    {
     "name": "stdout",
     "output_type": "stream",
     "text": [
      "DataFrame has been saved to sp500_cash_on_hand.xlsx\n"
     ]
    }
   ],
   "source": [
    "import yfinance as yf\n",
    "import pandas as pd\n",
    "from tqdm import tqdm\n",
    "\n",
    "# Fetch the list of S&P 500 companies from Wikipedia\n",
    "sp500_url = 'https://en.wikipedia.org/wiki/List_of_S%26P_500_companies'\n",
    "sp500_table = pd.read_html(sp500_url)\n",
    "sp500_df = sp500_table[0]\n",
    "\n",
    "# Create an empty dataframe to store the results\n",
    "columns = ['Ticker', 'Company', 'Cash on Hand']\n",
    "cash_df = pd.DataFrame(columns=columns)\n",
    "\n",
    "# Function to get Cash on Hand\n",
    "def get_cash_on_hand(ticker):\n",
    "    try:\n",
    "        stock = yf.Ticker(ticker)\n",
    "        cash_on_hand = stock.info.get('totalCash', None)  # Fetching cash on hand\n",
    "        return cash_on_hand\n",
    "    except KeyError:\n",
    "        return None\n",
    "\n",
    "# List to collect data rows\n",
    "data_rows = []\n",
    "\n",
    "# Iterate over the S&P 500 companies and get their Cash on Hand\n",
    "for index, row in tqdm(sp500_df.iterrows(), total=sp500_df.shape[0]):\n",
    "    ticker = row['Symbol']\n",
    "    company = row['Security']\n",
    "    cash_on_hand = get_cash_on_hand(ticker)\n",
    "    data_rows.append({'Ticker': ticker, 'Company': company, 'Cash on Hand': cash_on_hand})\n",
    "\n",
    "# Create DataFrame from the collected data\n",
    "cash_df = pd.DataFrame(data_rows)\n",
    "\n",
    "# Save the DataFrame to an Excel file\n",
    "output_file = 'sp500_cash_on_hand.xlsx'\n",
    "cash_df.to_excel(output_file, index=False)\n",
    "\n",
    "print(f\"DataFrame has been saved to {output_file}\")\n"
   ]
  },
  {
   "cell_type": "code",
   "execution_count": null,
   "id": "af361177-7df3-4f0c-8bce-813cb005a659",
   "metadata": {},
   "outputs": [],
   "source": []
  }
 ],
 "metadata": {
  "kernelspec": {
   "display_name": "Python 3 (ipykernel)",
   "language": "python",
   "name": "python3"
  },
  "language_info": {
   "codemirror_mode": {
    "name": "ipython",
    "version": 3
   },
   "file_extension": ".py",
   "mimetype": "text/x-python",
   "name": "python",
   "nbconvert_exporter": "python",
   "pygments_lexer": "ipython3",
   "version": "3.11.7"
  }
 },
 "nbformat": 4,
 "nbformat_minor": 5
}
